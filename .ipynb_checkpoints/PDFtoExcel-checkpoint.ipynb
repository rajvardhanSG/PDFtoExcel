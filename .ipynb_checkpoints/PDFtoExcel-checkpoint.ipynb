{
 "cells": [
  {
   "cell_type": "code",
   "execution_count": 1,
   "id": "394bb007",
   "metadata": {},
   "outputs": [],
   "source": [
    "import pandas as pd\n",
    "import pdfplumber\n",
    "import os"
   ]
  },
  {
   "cell_type": "code",
   "execution_count": 7,
   "id": "1066ae87",
   "metadata": {},
   "outputs": [],
   "source": [
    "def tableExtractor(pdf_path, output_folder):\n",
    "    if not os.path.exists(pdf_path):\n",
    "            print(f\"Error: File '{pdf_path}' not found.\")\n",
    "            return\n",
    "        \n",
    "    if not os.path.exists(output_folder):\n",
    "            output_folder = \"output_tables_folder\"\n",
    "            os.makedirs(output_folder)\n",
    "            print(f\"Warning: File '{output_folder}' not found, hence folder named: 'output_tables_folder' created\")\n",
    "            \n",
    "    pdf = pdfplumber.open(pdf_path)\n",
    "    \n",
    "    if len(pdf.pages) == 0:\n",
    "            print(\"Error: This PDF is empty.\")\n",
    "            return\n",
    "    \n",
    "    table_count = 0\n",
    "    for page_no, page in enumerate(pdf.pages, start=1):\n",
    "        tables = page.extract_tables()\n",
    "        \n",
    "        if not tables:\n",
    "            continue\n",
    "            \n",
    "        for table in tables:\n",
    "            if table:\n",
    "                table_count += 1\n",
    "                df = pd.DataFrame(table)\n",
    "                \n",
    "                file_path = os.path.join(output_folder, f\"table_{table_count}.xlsx\")\n",
    "                \n",
    "                df.to_excel(file_path, index=False, header=False)\n",
    "                print(f\"Extracted Table {table_count} from Page {page_no} -> {file_path}\")\n",
    "                \n",
    "    print(f\"Extraction complete. {table_count} tables saved in '{output_folder}'.\")"
   ]
  },
  {
   "cell_type": "code",
   "execution_count": 8,
   "id": "ca2092d0",
   "metadata": {},
   "outputs": [
    {
     "name": "stdout",
     "output_type": "stream",
     "text": [
      "Enter the path of PDF file: stock_market_dataset.pdf\n",
      "Enter the folder path for excel files: C:\\Users\\rajva\\OneDrive\\Desktop\n",
      "Extracted Table 1 from Page 2 -> C:\\Users\\rajva\\OneDrive\\Desktop\\table_1.xlsx\n",
      "Extracted Table 2 from Page 3 -> C:\\Users\\rajva\\OneDrive\\Desktop\\table_2.xlsx\n",
      "Extracted Table 3 from Page 4 -> C:\\Users\\rajva\\OneDrive\\Desktop\\table_3.xlsx\n",
      "Extracted Table 4 from Page 5 -> C:\\Users\\rajva\\OneDrive\\Desktop\\table_4.xlsx\n",
      "Extracted Table 5 from Page 6 -> C:\\Users\\rajva\\OneDrive\\Desktop\\table_5.xlsx\n",
      "Extracted Table 6 from Page 7 -> C:\\Users\\rajva\\OneDrive\\Desktop\\table_6.xlsx\n",
      "Extracted Table 7 from Page 9 -> C:\\Users\\rajva\\OneDrive\\Desktop\\table_7.xlsx\n",
      "Extracted Table 8 from Page 10 -> C:\\Users\\rajva\\OneDrive\\Desktop\\table_8.xlsx\n",
      "Extracted Table 9 from Page 11 -> C:\\Users\\rajva\\OneDrive\\Desktop\\table_9.xlsx\n",
      "Extracted Table 10 from Page 12 -> C:\\Users\\rajva\\OneDrive\\Desktop\\table_10.xlsx\n",
      "Extracted Table 11 from Page 13 -> C:\\Users\\rajva\\OneDrive\\Desktop\\table_11.xlsx\n",
      "Extracted Table 12 from Page 14 -> C:\\Users\\rajva\\OneDrive\\Desktop\\table_12.xlsx\n",
      "Extracted Table 13 from Page 16 -> C:\\Users\\rajva\\OneDrive\\Desktop\\table_13.xlsx\n",
      "Extracted Table 14 from Page 18 -> C:\\Users\\rajva\\OneDrive\\Desktop\\table_14.xlsx\n",
      "Extraction complete. 14 tables saved in 'C:\\Users\\rajva\\OneDrive\\Desktop'.\n"
     ]
    }
   ],
   "source": [
    "pdf_path = str(input(\"Enter the path of PDF file: \"))\n",
    "output_folder = str(input(\"Enter the folder path for excel files: \"))\n",
    "tableExtractor(pdf_path, output_folder)"
   ]
  },
  {
   "cell_type": "code",
   "execution_count": null,
   "id": "1bb3ce25",
   "metadata": {},
   "outputs": [],
   "source": []
  }
 ],
 "metadata": {
  "kernelspec": {
   "display_name": "Python 3 (ipykernel)",
   "language": "python",
   "name": "python3"
  },
  "language_info": {
   "codemirror_mode": {
    "name": "ipython",
    "version": 3
   },
   "file_extension": ".py",
   "mimetype": "text/x-python",
   "name": "python",
   "nbconvert_exporter": "python",
   "pygments_lexer": "ipython3",
   "version": "3.11.4"
  }
 },
 "nbformat": 4,
 "nbformat_minor": 5
}
